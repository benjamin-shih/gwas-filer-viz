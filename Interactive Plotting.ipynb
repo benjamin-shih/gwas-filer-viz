{
 "cells": [
  {
   "cell_type": "code",
   "execution_count": 1,
   "id": "e2c03d33-d298-4ddd-b37b-829a1c261616",
   "metadata": {},
   "outputs": [],
   "source": [
    "import os\n",
    "os.chdir('/Users/benjaminshih/opt/miniconda3/envs/filer/lib/python3.8/site-packages')\n",
    "%matplotlib inline\n",
    "%config InlineBackend.figure_format='retina'\n",
    "%load_ext autoreload\n",
    "%autoreload 2\n",
    "import requests\n",
    "import matplotlib as mpl\n",
    "import pandas as pd\n",
    "from matplotlib import rc\n",
    "import matplotlib.pyplot as plt\n",
    "import seaborn as sns\n",
    "import plotly.express as px\n",
    "from jupyter_dash import JupyterDash\n",
    "import dash\n",
    "from dash import dcc\n",
    "from dash import  html\n",
    "import plotly.graph_objects as go\n",
    "\n",
    "#aesthetic params\n",
    "nord = ['8fbcbb', '81a1c1', 'bf616a', 'd08770', 'ebcb8b', 'a3be8c', 'b48ead', 'd8dee9']\n",
    "nord_hex = [\"#\"+i for i in nord]\n",
    "custom_colors = mpl.cycler('color', nord)\n",
    "mpl.rcParams['axes.prop_cycle'] = custom_colors\n",
    "mpl.rcParams['figure.dpi'] = 300\n",
    "\n",
    "rc('font',**{'family':'serif','serif':['Times']})"
   ]
  },
  {
   "cell_type": "code",
   "execution_count": 2,
   "id": "8c99f25e-e049-442f-b7fe-5db76a2d3688",
   "metadata": {},
   "outputs": [],
   "source": [
    "#global vars\n",
    "FILER_URL= 'https://tf.lisanwanglab.org/FILER'\n",
    "\n",
    "data_region = 'get_data_region.php' \n",
    "metadata = 'get_metadata.php'\n",
    "overlap_track = 'get_overlapping_tracks_by_coord.php'"
   ]
  },
  {
   "cell_type": "code",
   "execution_count": 3,
   "id": "35549580-99ff-4416-be03-2a7fdc20a19e",
   "metadata": {},
   "outputs": [],
   "source": [
    "def request_data(base_url: str, endpoint: str, params: dict) -> \"JSON\":\n",
    "    \"\"\"\n",
    "    Returns the JSON data for a particular endpoint (one of track data, metadata or overlap data) and \n",
    "    particular parameters\n",
    "\n",
    "    Parameters:\n",
    "        base_url (str): FILER or GADB base URL to fetch from\n",
    "        endpoint (str): endpoint to fetch from, either data region, metadata, or overlapping tracks\n",
    "        params (dict): request-specific parameters\n",
    "        \n",
    "    Returns:\n",
    "        JSON dictionary containing API call data\n",
    "    \"\"\"\n",
    "    r = requests.get(base_url + \"/\" + endpoint, params=params)\n",
    "    data = r.json()\n",
    "    \n",
    "    if r.status_code != requests.codes.ok:\n",
    "        print(\"Request failed\")\n",
    "        return\n",
    "    \n",
    "    return data"
   ]
  },
  {
   "cell_type": "markdown",
   "id": "a16621bd-f96d-4a7f-b7d2-dc1b16d13161",
   "metadata": {},
   "source": [
    "### Metadata Example\n",
    "\n",
    "Generate HTML Heatmap with hover information from FILER API dataframe:\n",
    "- Demonstrates ability to quickly query and return visualizations of data within FILER database"
   ]
  },
  {
   "cell_type": "code",
   "execution_count": 4,
   "id": "abf055d7-621f-4705-b5d3-4ce0cbab2208",
   "metadata": {},
   "outputs": [],
   "source": [
    "data = request_data(FILER_URL, metadata, \n",
    "                    {'genomeBuild':'hg19', 'dataSource':'ROADMAP', 'assayType':'ChIP-seq'})\n",
    "df = pd.DataFrame(data)\n",
    "df = df[[\"cell type\", \"system category\", \"Number of intervals\"]]\n",
    "\n",
    "fig = px.density_heatmap(df, x=\"system category\", y=\"cell type\", marginal_x=\"histogram\", marginal_y=\"histogram\", color_continuous_scale=nord_hex)\n",
    "fig.write_html(\"test.html\", auto_open=True)"
   ]
  },
  {
   "cell_type": "code",
   "execution_count": null,
   "id": "22f696f8-4cf1-46cb-b1d1-d3d1aa8a47ab",
   "metadata": {},
   "outputs": [
    {
     "name": "stdout",
     "output_type": "stream",
     "text": [
      "Dash is running on http://127.0.0.1:8050/\n",
      "\n",
      "Dash is running on http://127.0.0.1:8050/\n",
      "\n",
      " * Serving Flask app '__main__' (lazy loading)\n",
      " * Environment: production\n",
      "\u001b[31m   WARNING: This is a development server. Do not use it in a production deployment.\u001b[0m\n",
      "\u001b[2m   Use a production WSGI server instead.\u001b[0m\n",
      " * Debug mode: on\n"
     ]
    }
   ],
   "source": [
    "app = dash.Dash()\n",
    "app.layout = html.Div([\n",
    "    dcc.Graph(figure=fig)\n",
    "])\n",
    "\n",
    "app.run_server(debug=True, use_reloader=False)"
   ]
  },
  {
   "cell_type": "code",
   "execution_count": null,
   "id": "724881bd-30ed-421f-b032-b51e687da1dc",
   "metadata": {},
   "outputs": [],
   "source": [
    "data = request_data(FILER_URL, overlap_track, {'genomeBuild':'hg19', 'region':'chr1:1103243-1103243', \n",
    "                                               'filterString':'.', 'outputFormat':'json'})\n",
    "df = pd.DataFrame(data)\n",
    "df = df[df.columns.difference([\"wget command\", \"tabix_index Download\", \"Link out URL\", \"File name\", \"Raw File URL\", \"Raw file download\", \"Raw file md5\", \"Processed file md5\", \\\n",
    "                               \"Processed File Download URL\", \"filepath\", \"File format\", \"File size\", \"Downloaded date\", \"Date added to GADB\", \"Release date\"])]\n",
    "df = df[[\"Data Category\", \"system category\", \"bp covered\"]]\n",
    "px.sunburst(df, path=[\"system category\"], values=[\"Data Category\"])\n",
    "fig.write_html(\"test2.html\", auto_open=True)"
   ]
  },
  {
   "cell_type": "code",
   "execution_count": null,
   "id": "123b9f5e-3197-4ed6-ad03-968a59e9f003",
   "metadata": {},
   "outputs": [],
   "source": [
    "data = request_data(FILER_URL, overlap_track, {'genomeBuild':'hg19', 'region':'chr1:1103243-1103243', \n",
    "                                               'filterString':'.', 'outputFormat':'json'})\n",
    "df = pd.DataFrame(data)\n",
    "df = df[df.columns.difference([\"wget command\", \"tabix_index Download\", \"Link out URL\", \"File name\", \"Raw File URL\", \"Raw file download\", \"Raw file md5\", \"Processed file md5\", \\\n",
    "                               \"Processed File Download URL\", \"filepath\", \"File format\", \"File size\", \"Downloaded date\", \"Date added to GADB\", \"Release date\"])]\n",
    "df = df[[\"Data Category\", \"system category\", \"bp covered\"]]\n",
    "fig = px.histogram(df, x=\"Data Category\", y=\"bp covered\", \n",
    "                   marginal=\"box\", # or violin, rug\n",
    "                   hover_data=['system category'])\n",
    "fig.write_html(\"test3.html\", auto_open=True)"
   ]
  },
  {
   "cell_type": "markdown",
   "id": "9ae46bd1-09b3-4516-862d-fd60ff69db51",
   "metadata": {},
   "source": [
    "#Error in ```dash``` module for interactivity (dropdowns, etc.), will debug env"
   ]
  },
  {
   "cell_type": "code",
   "execution_count": null,
   "id": "93319b02-0102-4004-a843-7d7dd631992d",
   "metadata": {},
   "outputs": [],
   "source": [
    "fig = go.Figure(\n",
    "    data=[go.Bar(y=[2, 1, 3])],\n",
    "    layout_title_text=\"Native Plotly rendering in Dash\"\n",
    ")\n",
    "\n",
    "app = dash.Dash(__name__)\n",
    "\n",
    "app.layout = html.Div([\n",
    "    dcc.Graph(id=\"graph\", figure=fig),\n",
    "])\n",
    "\n",
    "app.run_server(mode='jupyterlab')"
   ]
  },
  {
   "cell_type": "code",
   "execution_count": null,
   "id": "31de6553-34cd-4b2c-9a7c-76e8ea953d5f",
   "metadata": {},
   "outputs": [],
   "source": [
    "%tb"
   ]
  }
 ],
 "metadata": {
  "kernelspec": {
   "display_name": "Python 3",
   "language": "python",
   "name": "python3"
  },
  "language_info": {
   "codemirror_mode": {
    "name": "ipython",
    "version": 3
   },
   "file_extension": ".py",
   "mimetype": "text/x-python",
   "name": "python",
   "nbconvert_exporter": "python",
   "pygments_lexer": "ipython3",
   "version": "3.8.3"
  }
 },
 "nbformat": 4,
 "nbformat_minor": 5
}
